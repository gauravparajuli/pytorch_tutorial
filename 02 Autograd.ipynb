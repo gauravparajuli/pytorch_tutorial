{
 "cells": [
  {
   "cell_type": "code",
   "execution_count": 1,
   "id": "3e314c3f",
   "metadata": {},
   "outputs": [],
   "source": [
    "import torch"
   ]
  },
  {
   "cell_type": "code",
   "execution_count": 5,
   "id": "8ba241a2",
   "metadata": {},
   "outputs": [
    {
     "name": "stdout",
     "output_type": "stream",
     "text": [
      "tensor([ 0.1610, -1.1359, -0.0703], requires_grad=True)\n",
      "tensor([2.1610, 0.8641, 1.9297], grad_fn=<AddBackward0>)\n",
      "tensor(6.0937, grad_fn=<MeanBackward0>)\n",
      "tensor([2.8814, 1.1522, 2.5729])\n"
     ]
    }
   ],
   "source": [
    "x = torch.randn(3, requires_grad=True)\n",
    "print(x)\n",
    "\n",
    "y = x + 2\n",
    "print(y)\n",
    "z = y ** 2 * 2\n",
    "z = z.mean()\n",
    "print(z)\n",
    "\n",
    "z.backward() # dz/dx\n",
    "print(x.grad)"
   ]
  },
  {
   "cell_type": "code",
   "execution_count": 7,
   "id": "be185d8e",
   "metadata": {},
   "outputs": [
    {
     "name": "stdout",
     "output_type": "stream",
     "text": [
      "tensor([-0.2875,  0.2090,  0.2434], requires_grad=True)\n",
      "tensor([1.7125, 2.2090, 2.2434], grad_fn=<AddBackward0>)\n",
      "tensor([ 5.8652,  9.7594, 10.0653], grad_fn=<MulBackward0>)\n",
      "tensor([0.6850, 8.8360, 0.0090])\n"
     ]
    }
   ],
   "source": [
    "x = torch.randn(3, requires_grad=True)\n",
    "print(x)\n",
    "\n",
    "y = x + 2\n",
    "print(y)\n",
    "z = y ** 2 * 2\n",
    "# z = z.mean()\n",
    "print(z)\n",
    "\n",
    "v = torch.tensor([0.1,1.0,0.001], dtype=torch.float32)\n",
    "z.backward(v) # dz/dx\n",
    "print(x.grad)"
   ]
  },
  {
   "cell_type": "code",
   "execution_count": null,
   "id": "2ec9b62a",
   "metadata": {},
   "outputs": [
    {
     "name": "stdout",
     "output_type": "stream",
     "text": [
      "tensor([ 1.5840,  0.7015, -0.5042], requires_grad=True)\n",
      "tensor([3.5840, 2.7015, 1.4958])\n"
     ]
    }
   ],
   "source": [
    "x = torch.randn(3, requires_grad=True)\n",
    "print(x)\n",
    "\n",
    "### preventing gradient history tracking in the computation graph\n",
    "# x.requires_grad_(False)\n",
    "# print(x)\n",
    "\n",
    "# y = x.detach()\n",
    "# print(y)\n",
    "\n",
    "with torch.no_grad():\n",
    "    y = x + 2\n",
    "    print(y)\n"
   ]
  },
  {
   "cell_type": "markdown",
   "id": "c7c26f5c",
   "metadata": {},
   "source": [
    "## gradient accumulation"
   ]
  },
  {
   "cell_type": "code",
   "execution_count": 14,
   "id": "cd9871b7",
   "metadata": {},
   "outputs": [
    {
     "name": "stdout",
     "output_type": "stream",
     "text": [
      "tensor([3., 3., 3., 3.])\n",
      "tensor([6., 6., 6., 6.])\n",
      "tensor([9., 9., 9., 9.])\n",
      "tensor([12., 12., 12., 12.])\n"
     ]
    }
   ],
   "source": [
    "weights = torch.ones(4, requires_grad=True)\n",
    "for epoch in range(4):\n",
    "    model_output = (weights * 3).sum()\n",
    "\n",
    "    model_output.backward() # computes the gradient of current tensor wrt graph leaves\n",
    "\n",
    "    print(weights.grad)"
   ]
  },
  {
   "cell_type": "code",
   "execution_count": 15,
   "id": "2ec981d7",
   "metadata": {},
   "outputs": [
    {
     "name": "stdout",
     "output_type": "stream",
     "text": [
      "tensor([3., 3., 3., 3.])\n",
      "tensor([3., 3., 3., 3.])\n",
      "tensor([3., 3., 3., 3.])\n",
      "tensor([3., 3., 3., 3.])\n"
     ]
    }
   ],
   "source": [
    "weights = torch.ones(4, requires_grad=True)\n",
    "for epoch in range(4):\n",
    "    model_output = (weights * 3).sum()\n",
    "\n",
    "    model_output.backward() # computes the gradient of current tensor wrt graph leaves\n",
    "\n",
    "    print(weights.grad)\n",
    "    weights.grad.zero_()"
   ]
  },
  {
   "cell_type": "code",
   "execution_count": null,
   "id": "63117e39",
   "metadata": {},
   "outputs": [],
   "source": []
  }
 ],
 "metadata": {
  "kernelspec": {
   "display_name": "drl",
   "language": "python",
   "name": "python3"
  },
  "language_info": {
   "codemirror_mode": {
    "name": "ipython",
    "version": 3
   },
   "file_extension": ".py",
   "mimetype": "text/x-python",
   "name": "python",
   "nbconvert_exporter": "python",
   "pygments_lexer": "ipython3",
   "version": "3.11.11"
  }
 },
 "nbformat": 4,
 "nbformat_minor": 5
}
