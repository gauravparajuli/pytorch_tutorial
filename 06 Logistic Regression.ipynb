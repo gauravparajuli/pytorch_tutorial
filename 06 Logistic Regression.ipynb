{
 "cells": [
  {
   "cell_type": "code",
   "execution_count": 7,
   "id": "b530a13a",
   "metadata": {},
   "outputs": [],
   "source": [
    "import torch\n",
    "import torch.nn as nn\n",
    "import torch.functional as F\n",
    "import numpy as np\n",
    "from sklearn import datasets\n",
    "from sklearn.preprocessing import StandardScaler\n",
    "from sklearn.model_selection import train_test_split"
   ]
  },
  {
   "cell_type": "code",
   "execution_count": 5,
   "id": "92c7e071",
   "metadata": {},
   "outputs": [
    {
     "name": "stdout",
     "output_type": "stream",
     "text": [
      "(569, 30) (569,)\n",
      "torch.Size([455, 1]) torch.Size([114, 1])\n"
     ]
    }
   ],
   "source": [
    "bc = datasets.load_breast_cancer()\n",
    "X, y = bc.data, bc.target\n",
    "print(X.shape, y.shape)\n",
    "n_samples, n_features = X.shape\n",
    "\n",
    "X_train, X_test, y_train, y_test = train_test_split(X, y, test_size=.2, random_state=1234)\n",
    "\n",
    "sc = StandardScaler() # make our dataset have 0 mean and unit variance\n",
    "X_train = sc.fit_transform(X_train)\n",
    "X_test = sc.transform(X_test)\n",
    "\n",
    "X_train = torch.from_numpy(X_train.astype(np.float32))\n",
    "X_test = torch.from_numpy(X_test.astype(np.float32))\n",
    "y_train = torch.from_numpy(y_train.astype(np.float32))\n",
    "y_test = torch.from_numpy(y_test.astype(np.float32))\n",
    "\n",
    "y_train = y_train.view(-1, 1)\n",
    "y_test = y_test.view(-1, 1)\n",
    "print(y_train.shape, y_test.shape)"
   ]
  },
  {
   "cell_type": "code",
   "execution_count": 11,
   "id": "a4a88c73",
   "metadata": {},
   "outputs": [],
   "source": [
    "class LogisticRegressionModel(nn.Module):\n",
    "    def __init__(self, in_features):\n",
    "        super().__init__()\n",
    "\n",
    "        self.layer1 = nn.Linear(in_features, 1)\n",
    "\n",
    "    def forward(self, x):\n",
    "        return torch.sigmoid(self.layer1(x))\n",
    "    \n",
    "\n",
    "model = LogisticRegressionModel(n_features)"
   ]
  },
  {
   "cell_type": "code",
   "execution_count": 12,
   "id": "ff4b5b07",
   "metadata": {},
   "outputs": [
    {
     "data": {
      "text/plain": [
       "LogisticRegressionModel(\n",
       "  (layer1): Linear(in_features=30, out_features=1, bias=True)\n",
       ")"
      ]
     },
     "execution_count": 12,
     "metadata": {},
     "output_type": "execute_result"
    }
   ],
   "source": [
    "model"
   ]
  },
  {
   "cell_type": "code",
   "execution_count": 15,
   "id": "9ca837b3",
   "metadata": {},
   "outputs": [
    {
     "name": "stdout",
     "output_type": "stream",
     "text": [
      "epoch: 10 loss: 0.1721 accuracy: 0.9035\n",
      "epoch: 20 loss: 0.1687 accuracy: 0.9035\n",
      "epoch: 30 loss: 0.1656 accuracy: 0.9035\n",
      "epoch: 40 loss: 0.1626 accuracy: 0.9035\n",
      "epoch: 50 loss: 0.1598 accuracy: 0.9035\n",
      "epoch: 60 loss: 0.1572 accuracy: 0.9035\n",
      "epoch: 70 loss: 0.1547 accuracy: 0.9123\n",
      "epoch: 80 loss: 0.1523 accuracy: 0.9123\n",
      "epoch: 90 loss: 0.1500 accuracy: 0.9123\n",
      "epoch: 100 loss: 0.1479 accuracy: 0.9123\n"
     ]
    }
   ],
   "source": [
    "criterion = nn.BCELoss()\n",
    "optimizer = torch.optim.SGD(model.parameters(), lr=0.01)\n",
    "\n",
    "num_epochs = 100\n",
    "for epoch in range(num_epochs):\n",
    "    y_hat = model(X_train)\n",
    "    loss = criterion(y_hat, y_train)\n",
    "\n",
    "    loss.backward() # compute gradient of this tensor wrt graph leaves\n",
    "\n",
    "    optimizer.step() # update the weights\n",
    "\n",
    "    optimizer.zero_grad()\n",
    "\n",
    "    if (epoch+1) % 10 == 0:\n",
    "        # run validation every 10 epochs\n",
    "        with torch.no_grad():\n",
    "            y_hat = model(X_test)\n",
    "            y_hat_classes = y_hat.round()\n",
    "            acc = y_hat_classes.eq(y_test).sum() / float(y_test.shape[0])\n",
    "            print(f'epoch: {epoch + 1} loss: {loss.item():.4f} accuracy: {acc:.4f}')\n"
   ]
  },
  {
   "cell_type": "code",
   "execution_count": null,
   "id": "e6917a97",
   "metadata": {},
   "outputs": [],
   "source": []
  }
 ],
 "metadata": {
  "kernelspec": {
   "display_name": "drl",
   "language": "python",
   "name": "python3"
  },
  "language_info": {
   "codemirror_mode": {
    "name": "ipython",
    "version": 3
   },
   "file_extension": ".py",
   "mimetype": "text/x-python",
   "name": "python",
   "nbconvert_exporter": "python",
   "pygments_lexer": "ipython3",
   "version": "3.11.11"
  }
 },
 "nbformat": 4,
 "nbformat_minor": 5
}
